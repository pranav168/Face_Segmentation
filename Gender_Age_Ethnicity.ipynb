{
  "cells": [
    {
      "cell_type": "code",
      "execution_count": 1,
      "metadata": {
        "id": "U2lXaAjFLiVf"
      },
      "outputs": [],
      "source": [
        "import tensorflow as tf                                                                     # Importing all the required Libraries\n",
        "from tensorflow import keras\n",
        "from keras.models import Sequential                                                            \n",
        "from keras import layers\n",
        "from keras.layers import Conv2D,MaxPool2D, Dense, Dropout, Flatten, BatchNormalization\n",
        "from keras.preprocessing.image import ImageDataGenerator, array_to_img, img_to_array, load_img\n",
        "from keras.optimizer_v2.adam import Adam\n",
        "import matplotlib.pyplot as plt\n",
        "from keras.callbacks import EarlyStopping, ModelCheckpoint, ReduceLROnPlateau\n",
        "from keras.models import load_model\n",
        "from keras import Model\n",
        "from sklearn.metrics import confusion_matrix, classification_report, accuracy_score \n",
        "from sklearn.model_selection import train_test_split\n",
        "from tensorflow.keras.utils import to_categorical\n",
        "import numpy as np \n",
        "\n",
        "import cv2\n",
        "import os\n",
        "import shutil\n",
        "import random\n",
        "import glob\n",
        "from PIL import Image\n",
        "import fnmatch\n",
        "\n",
        "import warnings                                                                                # Removing all those annoying Warnings\n",
        "warnings.filterwarnings('ignore')\n",
        "warnings.simplefilter('ignore')"
      ]
    },
    {
      "cell_type": "code",
      "execution_count": 2,
      "metadata": {
        "id": "vYkOv8lZL2hw"
      },
      "outputs": [],
      "source": [
        "temp = os.listdir('/content/drive/MyDrive/UTKFace/UTKFace')                      # location of directory with images \n",
        "dataset = fnmatch.filter(temp, '*_*_*_*')                                        # format name is age_gender_ethnicity_* thus keeping only files that has perfect format   "
      ]
    },
    {
      "cell_type": "code",
      "execution_count": 3,
      "metadata": {
        "id": "1kPjO4mRySsR"
      },
      "outputs": [],
      "source": [
        "random.shuffle(dataset)                                                           # Shuffeling the Images as they are in a particular order "
      ]
    },
    {
      "cell_type": "code",
      "execution_count": 31,
      "metadata": {
        "id": "q-G1sSRUL8J4"
      },
      "outputs": [],
      "source": [
        "age = [i.split('_')[0] for i in dataset]                                          # Parsing thought the name of every image and taking the first element after splitting\n",
        "gender = [i.split('_')[1] for i in dataset]                                       # second element dipict gender thus parsing though it and extracting gender\n",
        "ethnicity = [i.split('_')[2] for i in dataset]                                    # Third element is ethnicity thus keeping it in the list"
      ]
    },
    {
      "cell_type": "code",
      "execution_count": 32,
      "metadata": {
        "id": "Ufaw7HzHL-nc"
      },
      "outputs": [],
      "source": [
        "age = list(map(int, age))                                                         # As stored format is string converting them to interger\n",
        "gender = list(map(int,gender))\n",
        "ethnicity = list(map(int,ethnicity))"
      ]
    },
    {
      "cell_type": "code",
      "execution_count": 33,
      "metadata": {
        "id": "cTRQA71FMAyg"
      },
      "outputs": [],
      "source": [
        "gender_classes = to_categorical(gender, num_classes=2)                           # their are two classes for gender male and female\n",
        "ethnicity_classes = to_categorical(ethnicity,num_classes=5)                      # for ethnicity their are 5 Classes "
      ]
    },
    {
      "cell_type": "code",
      "execution_count": 9,
      "metadata": {
        "id": "aNEYM8W1ME3q",
        "colab": {
          "base_uri": "https://localhost:8080/"
        },
        "outputId": "1a2c49a2-cfab-49d1-92ad-3e1dc53b3695"
      },
      "outputs": [
        {
          "output_type": "stream",
          "name": "stdout",
          "text": [
            ">>>>>>>>>>>>>>>>>>>>>>>"
          ]
        }
      ],
      "source": [
        "X_data =[]\n",
        "for i in dataset:\n",
        "    face = cv2.imread('/content/drive/MyDrive/UTKFace/UTKFace/'+i)               # Reading through each image so as to store the matrix in a list\n",
        "    face = cv2.resize(face, (128, 128) )                                         # Assuring the size of each image to be 128X 128\n",
        "    face = cv2.cvtColor(face, cv2.COLOR_BGR2GRAY)                                # Converting the images to gray to keeping single channel\n",
        "    X_data.append(face)                                                          # Appending the Image matrix with single channel in a list\n",
        "    count+=1\n",
        "    if count==1000:\n",
        "      print('>', end='')\n",
        "      count=0\n",
        "  \n",
        "X = np.squeeze(X_data)\n",
        "X = X.astype('float32')\n",
        "X /= 255\n",
        "X_train_age,X_val_age, y_train_age, y_val_age = train_test_split(X,age, test_size=0.30)"
      ]
    },
    {
      "cell_type": "code",
      "execution_count": 11,
      "metadata": {
        "id": "buZw8ReUMFjo"
      },
      "outputs": [],
      "source": [
        "X = X.astype('float32')                                    # Normalizing the values of all the pixel by dividing by 255 as it is maximimum number and dipict color white\n",
        "X /= 255"
      ]
    },
    {
      "cell_type": "code",
      "execution_count": 14,
      "metadata": {
        "id": "KAHOioBZziB-"
      },
      "outputs": [],
      "source": [
        "X_train_age,X_val_age, y_train_age, y_val_age = train_test_split(X,age, test_size=0.30)\n",
        "X_train_gender, X_val_gender, y_train_gender, y_val_gender = train_test_split(X,gender_classes, test_size=0.30)\n",
        "X_train_ethnicity, X_val_ethnicity, y_train_ethnicity, y_val_ethnicity = train_test_split(X,ethnicity_classes, test_size=0.30)"
      ]
    },
    {
      "cell_type": "code",
      "source": [
        "len(X_train_age),len(X_val_age), len(y_train_age), len(y_val_age)"
      ],
      "metadata": {
        "colab": {
          "base_uri": "https://localhost:8080/"
        },
        "id": "b27LC8pITbP-",
        "outputId": "70f04689-b238-46bb-f251-b8fbfc632a3f"
      },
      "execution_count": 15,
      "outputs": [
        {
          "output_type": "execute_result",
          "data": {
            "text/plain": [
              "(16593, 7112, 16593, 7112)"
            ]
          },
          "metadata": {},
          "execution_count": 15
        }
      ]
    },
    {
      "cell_type": "code",
      "source": [
        "cnn_model_age= Sequential([                                                       # Using Keras Sequential model to build out CNN\n",
        "    Conv2D(16, kernel_size=(3,3), activation='relu',input_shape=(128,128,1)),     # First Layer of convolutional Nural network, input shape is provided only at this instance.\n",
        "    Conv2D(32, kernel_size=(3,3), activation='relu'),\n",
        "    MaxPool2D(pool_size=(2,2)),                                                   # Maxpool Layer\n",
        "    Dropout(0.05),\n",
        "\n",
        "    Conv2D(64, kernel_size=(3,3), activation='relu'),\n",
        "    MaxPool2D(pool_size=(2,2)),\n",
        "    Dropout(0.05),\n",
        "    \n",
        "    Conv2D(128, kernel_size=(3,3), activation='relu'),\n",
        "    MaxPool2D(pool_size=(2,2)),\n",
        "    Dropout(0.05),\n",
        "\n",
        "    Conv2D(256, kernel_size=(3,3), activation='relu'),\n",
        "    MaxPool2D(pool_size=(2,2)),\n",
        "    Dropout(0.1),\n",
        "    \n",
        "    \n",
        "    Flatten(),                                                                    # Flattening out all the layers\n",
        "    Dense(256, activation='relu'),\n",
        "    Dropout(0.05), \n",
        "\n",
        "    Dense(128, activation='relu'),\n",
        "    Dropout(0.05), \n",
        "    \n",
        "    Dense(32, activation='relu'),\n",
        "    Dense(1, activation='linear')]\n",
        ")\n",
        "cnn_model_age.summary()"
      ],
      "metadata": {
        "colab": {
          "base_uri": "https://localhost:8080/"
        },
        "id": "vuHtVq05Qvz3",
        "outputId": "f36188a0-f11b-4209-ff01-936dd6233729"
      },
      "execution_count": 16,
      "outputs": [
        {
          "output_type": "stream",
          "name": "stdout",
          "text": [
            "Model: \"sequential\"\n",
            "_________________________________________________________________\n",
            " Layer (type)                Output Shape              Param #   \n",
            "=================================================================\n",
            " conv2d (Conv2D)             (None, 126, 126, 16)      160       \n",
            "                                                                 \n",
            " conv2d_1 (Conv2D)           (None, 124, 124, 32)      4640      \n",
            "                                                                 \n",
            " max_pooling2d (MaxPooling2D  (None, 62, 62, 32)       0         \n",
            " )                                                               \n",
            "                                                                 \n",
            " dropout (Dropout)           (None, 62, 62, 32)        0         \n",
            "                                                                 \n",
            " conv2d_2 (Conv2D)           (None, 60, 60, 64)        18496     \n",
            "                                                                 \n",
            " max_pooling2d_1 (MaxPooling  (None, 30, 30, 64)       0         \n",
            " 2D)                                                             \n",
            "                                                                 \n",
            " dropout_1 (Dropout)         (None, 30, 30, 64)        0         \n",
            "                                                                 \n",
            " conv2d_3 (Conv2D)           (None, 28, 28, 128)       73856     \n",
            "                                                                 \n",
            " max_pooling2d_2 (MaxPooling  (None, 14, 14, 128)      0         \n",
            " 2D)                                                             \n",
            "                                                                 \n",
            " dropout_2 (Dropout)         (None, 14, 14, 128)       0         \n",
            "                                                                 \n",
            " conv2d_4 (Conv2D)           (None, 12, 12, 256)       295168    \n",
            "                                                                 \n",
            " max_pooling2d_3 (MaxPooling  (None, 6, 6, 256)        0         \n",
            " 2D)                                                             \n",
            "                                                                 \n",
            " dropout_3 (Dropout)         (None, 6, 6, 256)         0         \n",
            "                                                                 \n",
            " flatten (Flatten)           (None, 9216)              0         \n",
            "                                                                 \n",
            " dense (Dense)               (None, 256)               2359552   \n",
            "                                                                 \n",
            " dropout_4 (Dropout)         (None, 256)               0         \n",
            "                                                                 \n",
            " dense_1 (Dense)             (None, 128)               32896     \n",
            "                                                                 \n",
            " dropout_5 (Dropout)         (None, 128)               0         \n",
            "                                                                 \n",
            " dense_2 (Dense)             (None, 32)                4128      \n",
            "                                                                 \n",
            " dense_3 (Dense)             (None, 1)                 33        \n",
            "                                                                 \n",
            "=================================================================\n",
            "Total params: 2,788,929\n",
            "Trainable params: 2,788,929\n",
            "Non-trainable params: 0\n",
            "_________________________________________________________________\n"
          ]
        }
      ]
    },
    {
      "cell_type": "code",
      "execution_count": 7,
      "metadata": {
        "id": "4p_P3Qb2MNa6"
      },
      "outputs": [],
      "source": [
        "# Adding various Call Backs Like Early stopping to prevent overfitting and Decay Learning Rate to prevent Overshooting\n",
        "\n",
        "early_stopping=EarlyStopping(monitor='val_loss',\n",
        "                            min_delta=0.0001,\n",
        "                            patience=5,\n",
        "                            verbose=2,\n",
        "                            restore_best_weights=True)\n",
        "decay_lr= ReduceLROnPlateau(monitor='val_loss',\n",
        "                           factor=0.2,\n",
        "                           patience=2,\n",
        "                           verbose=1,\n",
        "                           min_delta=0.001)\n",
        "callbacks=[early_stopping,decay_lr]"
      ]
    },
    {
      "cell_type": "code",
      "source": [
        "X_train_age,X_val_age, y_train_age, y_val_age = np.array(X_train_age),np.array(X_val_age), np.array(y_train_age), np.array(y_val_age)"
      ],
      "metadata": {
        "id": "7g7t2KHIVtKi"
      },
      "execution_count": 18,
      "outputs": []
    },
    {
      "cell_type": "code",
      "source": [
        "cnn_model_age.compile(loss='mse',optimizer='adam', metrics=['mae', 'mse'])                             # Compiling the Model, Keeping loss as Categorical Cross Entroopy and Optimizer as Adam\n",
        "cnn_model_age.fit(X_train_age,y_train_age,batch_size=128,\n",
        "                               epochs=40,validation_data=(X_val_age, y_val_age),\n",
        "                               callbacks=callbacks, verbose=2)   "
      ],
      "metadata": {
        "colab": {
          "base_uri": "https://localhost:8080/"
        },
        "id": "qwb7iwVCRVUZ",
        "outputId": "12ca3907-7361-497f-bf16-4dbd1d9a49dd"
      },
      "execution_count": 19,
      "outputs": [
        {
          "output_type": "stream",
          "name": "stdout",
          "text": [
            "Epoch 1/40\n",
            "130/130 - 26s - loss: 430.0058 - mae: 15.9347 - mse: 430.0058 - val_loss: 563.5712 - val_mae: 18.1453 - val_mse: 563.5712 - lr: 0.0010 - 26s/epoch - 197ms/step\n",
            "Epoch 2/40\n",
            "130/130 - 14s - loss: 337.9728 - mae: 14.1787 - mse: 337.9728 - val_loss: 244.4608 - val_mae: 12.0376 - val_mse: 244.4608 - lr: 0.0010 - 14s/epoch - 107ms/step\n",
            "Epoch 3/40\n",
            "130/130 - 14s - loss: 215.2121 - mae: 11.1313 - mse: 215.2121 - val_loss: 174.6313 - val_mae: 9.6204 - val_mse: 174.6313 - lr: 0.0010 - 14s/epoch - 108ms/step\n",
            "Epoch 4/40\n",
            "130/130 - 14s - loss: 178.8774 - mae: 9.9220 - mse: 178.8774 - val_loss: 160.0178 - val_mae: 8.9826 - val_mse: 160.0178 - lr: 0.0010 - 14s/epoch - 110ms/step\n",
            "Epoch 5/40\n",
            "130/130 - 14s - loss: 150.7521 - mae: 9.0773 - mse: 150.7521 - val_loss: 125.9960 - val_mae: 8.1615 - val_mse: 125.9960 - lr: 0.0010 - 14s/epoch - 111ms/step\n",
            "Epoch 6/40\n",
            "130/130 - 15s - loss: 128.4486 - mae: 8.3271 - mse: 128.4486 - val_loss: 112.3411 - val_mae: 7.7332 - val_mse: 112.3411 - lr: 0.0010 - 15s/epoch - 116ms/step\n",
            "Epoch 7/40\n",
            "130/130 - 14s - loss: 117.9290 - mae: 7.9730 - mse: 117.9290 - val_loss: 109.1826 - val_mae: 7.3321 - val_mse: 109.1826 - lr: 0.0010 - 14s/epoch - 109ms/step\n",
            "Epoch 8/40\n",
            "130/130 - 14s - loss: 107.1810 - mae: 7.5935 - mse: 107.1810 - val_loss: 105.0989 - val_mae: 7.6914 - val_mse: 105.0989 - lr: 0.0010 - 14s/epoch - 108ms/step\n",
            "Epoch 9/40\n",
            "130/130 - 14s - loss: 105.3044 - mae: 7.5232 - mse: 105.3044 - val_loss: 93.6737 - val_mae: 6.8951 - val_mse: 93.6737 - lr: 0.0010 - 14s/epoch - 109ms/step\n",
            "Epoch 10/40\n",
            "130/130 - 14s - loss: 92.8614 - mae: 7.0731 - mse: 92.8614 - val_loss: 115.9478 - val_mae: 7.5106 - val_mse: 115.9478 - lr: 0.0010 - 14s/epoch - 109ms/step\n",
            "Epoch 11/40\n",
            "130/130 - 14s - loss: 88.2311 - mae: 6.8827 - mse: 88.2311 - val_loss: 95.9022 - val_mae: 6.8341 - val_mse: 95.9022 - lr: 0.0010 - 14s/epoch - 109ms/step\n",
            "Epoch 12/40\n",
            "130/130 - 14s - loss: 81.4798 - mae: 6.6190 - mse: 81.4798 - val_loss: 91.4703 - val_mae: 6.6673 - val_mse: 91.4703 - lr: 0.0010 - 14s/epoch - 109ms/step\n",
            "Epoch 13/40\n",
            "130/130 - 14s - loss: 75.6982 - mae: 6.3897 - mse: 75.6982 - val_loss: 89.1876 - val_mae: 6.5839 - val_mse: 89.1876 - lr: 0.0010 - 14s/epoch - 109ms/step\n",
            "Epoch 14/40\n",
            "130/130 - 14s - loss: 71.1447 - mae: 6.2163 - mse: 71.1447 - val_loss: 85.5004 - val_mae: 6.4687 - val_mse: 85.5004 - lr: 0.0010 - 14s/epoch - 109ms/step\n",
            "Epoch 15/40\n",
            "130/130 - 14s - loss: 69.8174 - mae: 6.1629 - mse: 69.8174 - val_loss: 79.7137 - val_mae: 6.3389 - val_mse: 79.7137 - lr: 0.0010 - 14s/epoch - 109ms/step\n",
            "Epoch 16/40\n",
            "130/130 - 14s - loss: 64.7254 - mae: 5.9307 - mse: 64.7254 - val_loss: 110.5193 - val_mae: 7.4067 - val_mse: 110.5193 - lr: 0.0010 - 14s/epoch - 109ms/step\n",
            "Epoch 17/40\n",
            "130/130 - 14s - loss: 59.6311 - mae: 5.6840 - mse: 59.6311 - val_loss: 77.8897 - val_mae: 6.1649 - val_mse: 77.8897 - lr: 0.0010 - 14s/epoch - 109ms/step\n",
            "Epoch 18/40\n",
            "130/130 - 14s - loss: 56.9982 - mae: 5.5759 - mse: 56.9982 - val_loss: 71.7565 - val_mae: 5.9721 - val_mse: 71.7565 - lr: 0.0010 - 14s/epoch - 109ms/step\n",
            "Epoch 19/40\n",
            "130/130 - 14s - loss: 52.6997 - mae: 5.3810 - mse: 52.6997 - val_loss: 74.3992 - val_mae: 5.9572 - val_mse: 74.3992 - lr: 0.0010 - 14s/epoch - 110ms/step\n",
            "Epoch 20/40\n",
            "130/130 - 14s - loss: 49.2101 - mae: 5.2051 - mse: 49.2101 - val_loss: 82.5680 - val_mae: 6.3030 - val_mse: 82.5680 - lr: 0.0010 - 14s/epoch - 109ms/step\n",
            "Epoch 21/40\n",
            "\n",
            "Epoch 21: ReduceLROnPlateau reducing learning rate to 0.00020000000949949026.\n",
            "130/130 - 14s - loss: 47.2407 - mae: 5.1286 - mse: 47.2407 - val_loss: 92.6313 - val_mae: 6.7553 - val_mse: 92.6313 - lr: 0.0010 - 14s/epoch - 109ms/step\n",
            "Epoch 22/40\n",
            "130/130 - 14s - loss: 37.8614 - mae: 4.5967 - mse: 37.8614 - val_loss: 71.4866 - val_mae: 5.8411 - val_mse: 71.4866 - lr: 2.0000e-04 - 14s/epoch - 109ms/step\n",
            "Epoch 23/40\n",
            "130/130 - 14s - loss: 35.7102 - mae: 4.4734 - mse: 35.7102 - val_loss: 74.6103 - val_mae: 5.9578 - val_mse: 74.6103 - lr: 2.0000e-04 - 14s/epoch - 109ms/step\n",
            "Epoch 24/40\n",
            "130/130 - 14s - loss: 34.7432 - mae: 4.4202 - mse: 34.7432 - val_loss: 69.3383 - val_mae: 5.7624 - val_mse: 69.3383 - lr: 2.0000e-04 - 14s/epoch - 110ms/step\n",
            "Epoch 25/40\n",
            "130/130 - 14s - loss: 34.8928 - mae: 4.4098 - mse: 34.8928 - val_loss: 75.4799 - val_mae: 5.9857 - val_mse: 75.4799 - lr: 2.0000e-04 - 14s/epoch - 109ms/step\n",
            "Epoch 26/40\n",
            "130/130 - 14s - loss: 33.1708 - mae: 4.3266 - mse: 33.1708 - val_loss: 71.9581 - val_mae: 5.8480 - val_mse: 71.9581 - lr: 2.0000e-04 - 14s/epoch - 109ms/step\n",
            "Epoch 27/40\n",
            "\n",
            "Epoch 27: ReduceLROnPlateau reducing learning rate to 4.0000001899898055e-05.\n",
            "130/130 - 14s - loss: 32.4222 - mae: 4.2743 - mse: 32.4222 - val_loss: 74.4133 - val_mae: 5.9351 - val_mse: 74.4133 - lr: 2.0000e-04 - 14s/epoch - 110ms/step\n",
            "Epoch 28/40\n",
            "130/130 - 14s - loss: 30.8032 - mae: 4.1807 - mse: 30.8032 - val_loss: 72.7213 - val_mae: 5.8609 - val_mse: 72.7213 - lr: 4.0000e-05 - 14s/epoch - 109ms/step\n",
            "Epoch 29/40\n",
            "Restoring model weights from the end of the best epoch: 24.\n",
            "130/130 - 14s - loss: 30.5795 - mae: 4.1632 - mse: 30.5795 - val_loss: 73.3418 - val_mae: 5.8903 - val_mse: 73.3418 - lr: 4.0000e-05 - 14s/epoch - 109ms/step\n",
            "Epoch 29: early stopping\n"
          ]
        },
        {
          "output_type": "execute_result",
          "data": {
            "text/plain": [
              "<keras.callbacks.History at 0x7fb5ac211610>"
            ]
          },
          "metadata": {},
          "execution_count": 19
        }
      ]
    },
    {
      "cell_type": "code",
      "source": [
        "age_history=cnn_model_age.history.history\n",
        "for i in age_history:\n",
        "  print(i)"
      ],
      "metadata": {
        "colab": {
          "base_uri": "https://localhost:8080/"
        },
        "id": "U8bh_a-2aXmR",
        "outputId": "3ef85708-69e2-4fbc-b15d-ba700cc8614e"
      },
      "execution_count": 28,
      "outputs": [
        {
          "output_type": "stream",
          "name": "stdout",
          "text": [
            "loss\n",
            "mae\n",
            "mse\n",
            "val_loss\n",
            "val_mae\n",
            "val_mse\n",
            "lr\n"
          ]
        }
      ]
    },
    {
      "cell_type": "code",
      "source": [
        "def plot_metrics_age(history):\n",
        "    \n",
        "    train_loss = history['loss']\n",
        "    val_loss = history['val_loss']\n",
        "    train_mae = history['mae']\n",
        "    val_mae = history['val_mae']\n",
        "    \n",
        "    # Loss\n",
        "    plt.figure()\n",
        "    plt.plot(train_loss, label='Training Loss')\n",
        "    plt.plot(val_loss, label='Validation Loss')\n",
        "    plt.title('Loss')\n",
        "    plt.legend()\n",
        "    plt.show()\n",
        "    print('\\n\\n')\n",
        "\n",
        "    plt.figure()\n",
        "    plt.plot(train_mae, label='Training MAE')\n",
        "    plt.plot(val_mae, label='Validation MAE')\n",
        "    plt.title('Loss')\n",
        "    plt.legend()\n",
        "    plt.show()"
      ],
      "metadata": {
        "id": "a21q9yxxNXo2"
      },
      "execution_count": 38,
      "outputs": []
    },
    {
      "cell_type": "code",
      "source": [
        "plot_metrics_age(age_history)"
      ],
      "metadata": {
        "colab": {
          "base_uri": "https://localhost:8080/",
          "height": 281
        },
        "id": "1XbvH365bhPz",
        "outputId": "081182fb-bf66-46e0-bab9-5dc510b980b1"
      },
      "execution_count": 39,
      "outputs": [
        {
          "output_type": "display_data",
          "data": {
            "image/png": "[encoded data removed]",
            "text/plain": [
              "<Figure size 432x288 with 1 Axes>"
            ]
          },
          "metadata": {
            "needs_background": "light"
          }
        }
      ]
    },
    {
      "cell_type": "code",
      "execution_count": 10,
      "metadata": {
        "id": "RMJXI8PSMLT_",
        "colab": {
          "base_uri": "https://localhost:8080/"
        },
        "outputId": "84274e1c-996d-4977-e1f4-557bb9ff8aef"
      },
      "outputs": [
        {
          "output_type": "stream",
          "name": "stdout",
          "text": [
            "Model: \"sequential\"\n",
            "_________________________________________________________________\n",
            " Layer (type)                Output Shape              Param #   \n",
            "=================================================================\n",
            " conv2d (Conv2D)             (None, 126, 126, 16)      160       \n",
            "                                                                 \n",
            " conv2d_1 (Conv2D)           (None, 124, 124, 32)      4640      \n",
            "                                                                 \n",
            " max_pooling2d (MaxPooling2D  (None, 62, 62, 32)       0         \n",
            " )                                                               \n",
            "                                                                 \n",
            " dropout (Dropout)           (None, 62, 62, 32)        0         \n",
            "                                                                 \n",
            " conv2d_2 (Conv2D)           (None, 60, 60, 64)        18496     \n",
            "                                                                 \n",
            " max_pooling2d_1 (MaxPooling  (None, 30, 30, 64)       0         \n",
            " 2D)                                                             \n",
            "                                                                 \n",
            " dropout_1 (Dropout)         (None, 30, 30, 64)        0         \n",
            "                                                                 \n",
            " conv2d_3 (Conv2D)           (None, 28, 28, 128)       73856     \n",
            "                                                                 \n",
            " max_pooling2d_2 (MaxPooling  (None, 14, 14, 128)      0         \n",
            " 2D)                                                             \n",
            "                                                                 \n",
            " dropout_2 (Dropout)         (None, 14, 14, 128)       0         \n",
            "                                                                 \n",
            " conv2d_4 (Conv2D)           (None, 12, 12, 256)       295168    \n",
            "                                                                 \n",
            " max_pooling2d_3 (MaxPooling  (None, 6, 6, 256)        0         \n",
            " 2D)                                                             \n",
            "                                                                 \n",
            " dropout_3 (Dropout)         (None, 6, 6, 256)         0         \n",
            "                                                                 \n",
            " flatten (Flatten)           (None, 9216)              0         \n",
            "                                                                 \n",
            " dense (Dense)               (None, 128)               1179776   \n",
            "                                                                 \n",
            " dropout_4 (Dropout)         (None, 128)               0         \n",
            "                                                                 \n",
            " dense_1 (Dense)             (None, 32)                4128      \n",
            "                                                                 \n",
            " dense_2 (Dense)             (None, 2)                 66        \n",
            "                                                                 \n",
            "=================================================================\n",
            "Total params: 1,576,290\n",
            "Trainable params: 1,576,290\n",
            "Non-trainable params: 0\n",
            "_________________________________________________________________\n"
          ]
        }
      ],
      "source": [
        "cnn_model_gender= Sequential([                                                       # Using Keras Sequential model to build out CNN\n",
        "    Conv2D(16, kernel_size=(3,3), activation='relu',input_shape=(128,128,1)),     # First Layer of convolutional Nural network, input shape is provided only at this instance.\n",
        "    Conv2D(32, kernel_size=(3,3), activation='relu'),\n",
        "    MaxPool2D(pool_size=(2,2)),                                                   # Maxpool Layer\n",
        "    Dropout(0.05),\n",
        "\n",
        "    Conv2D(64, kernel_size=(3,3), activation='relu'),\n",
        "    MaxPool2D(pool_size=(2,2)),\n",
        "    Dropout(0.05),\n",
        "    \n",
        "    Conv2D(128, kernel_size=(3,3), activation='relu'),\n",
        "    MaxPool2D(pool_size=(2,2)),\n",
        "    Dropout(0.05),\n",
        "\n",
        "    Conv2D(256, kernel_size=(3,3), activation='relu'),\n",
        "    MaxPool2D(pool_size=(2,2)),\n",
        "    Dropout(0.1),\n",
        "    \n",
        "    \n",
        "    Flatten(),                                                                    # Flattening out all the layers\n",
        "    Dense(128, activation='relu'),\n",
        "    Dropout(0.05), \n",
        "    \n",
        "    Dense(32, activation='relu'),\n",
        "    Dense(2, activation='softmax')]\n",
        ")\n",
        "cnn_model_gender.summary()"
      ]
    },
    {
      "cell_type": "code",
      "execution_count": 12,
      "metadata": {
        "id": "VBnsV6fJMQdO",
        "colab": {
          "base_uri": "https://localhost:8080/"
        },
        "outputId": "c0617457-76f1-4b0a-d796-28b75fd9bc02"
      },
      "outputs": [
        {
          "output_type": "stream",
          "name": "stdout",
          "text": [
            "Epoch 1/10\n",
            "519/519 - 27s - loss: 0.4906 - accuracy: 0.7489 - mse: 0.1633 - val_loss: 0.3726 - val_accuracy: 0.8286 - val_mse: 0.1183 - lr: 0.0010 - 27s/epoch - 52ms/step\n",
            "Epoch 2/10\n",
            "519/519 - 15s - loss: 0.3451 - accuracy: 0.8475 - mse: 0.1078 - val_loss: 0.3170 - val_accuracy: 0.8550 - val_mse: 0.1002 - lr: 0.0010 - 15s/epoch - 29ms/step\n",
            "Epoch 3/10\n",
            "519/519 - 15s - loss: 0.3005 - accuracy: 0.8660 - mse: 0.0930 - val_loss: 0.2823 - val_accuracy: 0.8778 - val_mse: 0.0869 - lr: 0.0010 - 15s/epoch - 29ms/step\n",
            "Epoch 4/10\n",
            "519/519 - 15s - loss: 0.2767 - accuracy: 0.8783 - mse: 0.0846 - val_loss: 0.2616 - val_accuracy: 0.8816 - val_mse: 0.0816 - lr: 0.0010 - 15s/epoch - 29ms/step\n",
            "Epoch 5/10\n",
            "519/519 - 15s - loss: 0.2564 - accuracy: 0.8881 - mse: 0.0779 - val_loss: 0.2453 - val_accuracy: 0.8893 - val_mse: 0.0753 - lr: 0.0010 - 15s/epoch - 29ms/step\n",
            "Epoch 6/10\n",
            "519/519 - 15s - loss: 0.2423 - accuracy: 0.8937 - mse: 0.0740 - val_loss: 0.2619 - val_accuracy: 0.8832 - val_mse: 0.0815 - lr: 0.0010 - 15s/epoch - 29ms/step\n",
            "Epoch 7/10\n",
            "519/519 - 15s - loss: 0.2222 - accuracy: 0.9039 - mse: 0.0672 - val_loss: 0.2423 - val_accuracy: 0.8941 - val_mse: 0.0741 - lr: 0.0010 - 15s/epoch - 29ms/step\n",
            "Epoch 8/10\n",
            "519/519 - 15s - loss: 0.2074 - accuracy: 0.9130 - mse: 0.0623 - val_loss: 0.2451 - val_accuracy: 0.8960 - val_mse: 0.0737 - lr: 0.0010 - 15s/epoch - 29ms/step\n",
            "Epoch 9/10\n",
            "Restoring model weights from the end of the best epoch: 7.\n",
            "519/519 - 15s - loss: 0.1958 - accuracy: 0.9165 - mse: 0.0590 - val_loss: 0.2566 - val_accuracy: 0.8975 - val_mse: 0.0750 - lr: 0.0010 - 15s/epoch - 29ms/step\n",
            "Epoch 9: early stopping\n"
          ]
        }
      ],
      "source": [
        "cnn_model_gender.compile(loss='categorical_crossentropy',optimizer='adam', metrics=['accuracy', 'mse'])                             # Compiling the Model, Keeping loss as Categorical Cross Entroopy and Optimizer as Adam\n",
        "cnn_model_gender.fit(X_train_gender,y_train_gender,batch_size=32,\n",
        "                               epochs=10,validation_data=(X_val_gender, y_val_gender),\n",
        "                               callbacks=callbacks, verbose=2)   "
      ]
    },
    {
      "cell_type": "code",
      "source": [
        "def plot_metrics(history):\n",
        "    \n",
        "    train_loss = history['loss']\n",
        "    val_loss = history['val_loss']\n",
        "    train_acc = history['accuracy']\n",
        "    val_acc = history['val_accuracy']\n",
        "    \n",
        "    # Loss\n",
        "    plt.figure()\n",
        "    plt.plot(train_loss, label='Training Loss')\n",
        "    plt.plot(val_loss, label='Validation Loss')\n",
        "    plt.title('Loss')\n",
        "    plt.legend()\n",
        "    plt.show()\n",
        "    print('\\n\\n')\n",
        "    \n",
        "    # Accuracy\n",
        "    plt.figure()\n",
        "    plt.plot(train_acc, label='Training Accuracy')\n",
        "    plt.plot(val_acc, label='Validation Accuracy')\n",
        "    plt.title('Accuracy')\n",
        "    plt.legend()\n",
        "    plt.show()\n"
      ],
      "metadata": {
        "id": "SvmEca-Sa_gu"
      },
      "execution_count": 8,
      "outputs": []
    },
    {
      "cell_type": "code",
      "source": [
        "gender_history=cnn_model_gender.history.history"
      ],
      "metadata": {
        "id": "FEyj7hHCOq-w"
      },
      "execution_count": 24,
      "outputs": []
    },
    {
      "cell_type": "code",
      "source": [
        "plot_metrics(gender_history)"
      ],
      "metadata": {
        "colab": {
          "base_uri": "https://localhost:8080/",
          "height": 597
        },
        "id": "j2djsOlqOIth",
        "outputId": "de91e8db-9d40-465b-c2a6-7b84b640ab33"
      },
      "execution_count": 28,
      "outputs": [
        {
          "output_type": "display_data",
          "data": {
            "image/png": "[encoded data removed]",
            "text/plain": [
              "<Figure size 432x288 with 1 Axes>"
            ]
          },
          "metadata": {
            "needs_background": "light"
          }
        },
        {
          "output_type": "stream",
          "name": "stdout",
          "text": [
            "\n",
            "\n",
            "\n"
          ]
        },
        {
          "output_type": "display_data",
          "data": {
            "image/png": "[encoded data removed]",
            "text/plain": [
              "<Figure size 432x288 with 1 Axes>"
            ]
          },
          "metadata": {
            "needs_background": "light"
          }
        }
      ]
    },
    {
      "cell_type": "code",
      "source": [
        "cnn_model_ethnicity= Sequential([                                                 # Using Keras Sequential model to build out CNN\n",
        "    Conv2D(16, kernel_size=(3,3), activation='relu',input_shape=(128,128,1)),     # First Layer of convolutional Nural network, input shape is provided only at this instance.\n",
        "    Conv2D(32, kernel_size=(3,3), activation='relu'),\n",
        "    MaxPool2D(pool_size=(2,2)),                                                   # Maxpool Layer\n",
        "    Dropout(0.05),\n",
        "\n",
        "    Conv2D(64, kernel_size=(3,3), activation='relu'),\n",
        "    MaxPool2D(pool_size=(2,2)),\n",
        "    Dropout(0.05),\n",
        "    \n",
        "    Conv2D(128, kernel_size=(3,3), activation='relu'),\n",
        "    MaxPool2D(pool_size=(2,2)),\n",
        "    Dropout(0.05),\n",
        "\n",
        "    Conv2D(256, kernel_size=(3,3), activation='relu'),\n",
        "    MaxPool2D(pool_size=(2,2)),\n",
        "    Dropout(0.1),\n",
        "    \n",
        "    \n",
        "    Flatten(),                                                                    # Flattening out all the layers\n",
        "    Dense(512, activation='relu'),\n",
        "    Dropout(0.05), \n",
        "\n",
        "    Dense(128, activation='relu'),\n",
        "    Dropout(0.05), \n",
        "    \n",
        "    Dense(32, activation='relu'),\n",
        "    Dense(5, activation='softmax')]\n",
        ")\n",
        "cnn_model_ethnicity.summary()"
      ],
      "metadata": {
        "colab": {
          "base_uri": "https://localhost:8080/"
        },
        "id": "f58e9-ylONh4",
        "outputId": "6963f733-fd8b-41b4-ac17-528e2c2f9dc1"
      },
      "execution_count": 30,
      "outputs": [
        {
          "output_type": "stream",
          "name": "stdout",
          "text": [
            "Model: \"sequential_2\"\n",
            "_________________________________________________________________\n",
            " Layer (type)                Output Shape              Param #   \n",
            "=================================================================\n",
            " conv2d_10 (Conv2D)          (None, 126, 126, 16)      160       \n",
            "                                                                 \n",
            " conv2d_11 (Conv2D)          (None, 124, 124, 32)      4640      \n",
            "                                                                 \n",
            " max_pooling2d_8 (MaxPooling  (None, 62, 62, 32)       0         \n",
            " 2D)                                                             \n",
            "                                                                 \n",
            " dropout_11 (Dropout)        (None, 62, 62, 32)        0         \n",
            "                                                                 \n",
            " conv2d_12 (Conv2D)          (None, 60, 60, 64)        18496     \n",
            "                                                                 \n",
            " max_pooling2d_9 (MaxPooling  (None, 30, 30, 64)       0         \n",
            " 2D)                                                             \n",
            "                                                                 \n",
            " dropout_12 (Dropout)        (None, 30, 30, 64)        0         \n",
            "                                                                 \n",
            " conv2d_13 (Conv2D)          (None, 28, 28, 128)       73856     \n",
            "                                                                 \n",
            " max_pooling2d_10 (MaxPoolin  (None, 14, 14, 128)      0         \n",
            " g2D)                                                            \n",
            "                                                                 \n",
            " dropout_13 (Dropout)        (None, 14, 14, 128)       0         \n",
            "                                                                 \n",
            " conv2d_14 (Conv2D)          (None, 12, 12, 256)       295168    \n",
            "                                                                 \n",
            " max_pooling2d_11 (MaxPoolin  (None, 6, 6, 256)        0         \n",
            " g2D)                                                            \n",
            "                                                                 \n",
            " dropout_14 (Dropout)        (None, 6, 6, 256)         0         \n",
            "                                                                 \n",
            " flatten_2 (Flatten)         (None, 9216)              0         \n",
            "                                                                 \n",
            " dense_7 (Dense)             (None, 512)               4719104   \n",
            "                                                                 \n",
            " dropout_15 (Dropout)        (None, 512)               0         \n",
            "                                                                 \n",
            " dense_8 (Dense)             (None, 128)               65664     \n",
            "                                                                 \n",
            " dropout_16 (Dropout)        (None, 128)               0         \n",
            "                                                                 \n",
            " dense_9 (Dense)             (None, 32)                4128      \n",
            "                                                                 \n",
            " dense_10 (Dense)            (None, 5)                 165       \n",
            "                                                                 \n",
            "=================================================================\n",
            "Total params: 5,181,381\n",
            "Trainable params: 5,181,381\n",
            "Non-trainable params: 0\n",
            "_________________________________________________________________\n"
          ]
        }
      ]
    },
    {
      "cell_type": "code",
      "source": [
        "cnn_model_ethnicity.compile(loss='categorical_crossentropy',optimizer='adam', metrics=['accuracy', 'mse'])                             # Compiling the Model, Keeping loss as Categorical Cross Entroopy and Optimizer as Adam\n",
        "cnn_model_ethnicity.fit(X_train_ethnicity,y_train_ethnicity,batch_size=32,\n",
        "                               epochs=10,validation_data=(X_val_ethnicity, y_val_ethnicity),\n",
        "                               callbacks=callbacks, verbose=2)  "
      ],
      "metadata": {
        "colab": {
          "base_uri": "https://localhost:8080/"
        },
        "id": "gCyyWRcBPNGJ",
        "outputId": "eedb0ba0-5eef-472f-9f31-95a15a679c58"
      },
      "execution_count": 31,
      "outputs": [
        {
          "output_type": "stream",
          "name": "stdout",
          "text": [
            "Epoch 1/10\n",
            "519/519 - 17s - loss: 1.1861 - accuracy: 0.5467 - mse: 0.1192 - val_loss: 0.8997 - val_accuracy: 0.6729 - val_mse: 0.0898 - lr: 0.0010 - 17s/epoch - 33ms/step\n",
            "Epoch 2/10\n",
            "519/519 - 16s - loss: 0.8308 - accuracy: 0.7057 - mse: 0.0827 - val_loss: 0.7396 - val_accuracy: 0.7427 - val_mse: 0.0736 - lr: 0.0010 - 16s/epoch - 31ms/step\n",
            "Epoch 3/10\n",
            "519/519 - 16s - loss: 0.7266 - accuracy: 0.7434 - mse: 0.0724 - val_loss: 0.6887 - val_accuracy: 0.7560 - val_mse: 0.0686 - lr: 0.0010 - 16s/epoch - 31ms/step\n",
            "Epoch 4/10\n",
            "519/519 - 15s - loss: 0.6462 - accuracy: 0.7738 - mse: 0.0644 - val_loss: 0.6416 - val_accuracy: 0.7722 - val_mse: 0.0641 - lr: 0.0010 - 15s/epoch - 30ms/step\n",
            "Epoch 5/10\n",
            "519/519 - 16s - loss: 0.5942 - accuracy: 0.7909 - mse: 0.0595 - val_loss: 0.6482 - val_accuracy: 0.7740 - val_mse: 0.0643 - lr: 0.0010 - 16s/epoch - 30ms/step\n",
            "Epoch 6/10\n",
            "519/519 - 16s - loss: 0.5406 - accuracy: 0.8117 - mse: 0.0541 - val_loss: 0.6303 - val_accuracy: 0.7826 - val_mse: 0.0615 - lr: 0.0010 - 16s/epoch - 30ms/step\n",
            "Epoch 7/10\n",
            "519/519 - 16s - loss: 0.4860 - accuracy: 0.8305 - mse: 0.0487 - val_loss: 0.6270 - val_accuracy: 0.7857 - val_mse: 0.0613 - lr: 0.0010 - 16s/epoch - 31ms/step\n",
            "Epoch 8/10\n",
            "519/519 - 16s - loss: 0.4376 - accuracy: 0.8469 - mse: 0.0443 - val_loss: 0.6166 - val_accuracy: 0.7892 - val_mse: 0.0604 - lr: 0.0010 - 16s/epoch - 31ms/step\n",
            "Epoch 9/10\n",
            "519/519 - 16s - loss: 0.3827 - accuracy: 0.8666 - mse: 0.0389 - val_loss: 0.6713 - val_accuracy: 0.7909 - val_mse: 0.0627 - lr: 0.0010 - 16s/epoch - 30ms/step\n",
            "Epoch 10/10\n",
            "Restoring model weights from the end of the best epoch: 8.\n",
            "519/519 - 16s - loss: 0.3331 - accuracy: 0.8830 - mse: 0.0341 - val_loss: 0.6779 - val_accuracy: 0.7849 - val_mse: 0.0633 - lr: 0.0010 - 16s/epoch - 31ms/step\n",
            "Epoch 10: early stopping\n"
          ]
        },
        {
          "output_type": "execute_result",
          "data": {
            "text/plain": [
              "<keras.callbacks.History at 0x7f7d58040290>"
            ]
          },
          "metadata": {},
          "execution_count": 31
        }
      ]
    },
    {
      "cell_type": "code",
      "source": [
        "ethnicity_history=cnn_model_ethnicity.history.history"
      ],
      "metadata": {
        "id": "BGHtzhqgQUfm"
      },
      "execution_count": 33,
      "outputs": []
    },
    {
      "cell_type": "code",
      "source": [
        "plot_metrics(ethnicity_history)"
      ],
      "metadata": {
        "colab": {
          "base_uri": "https://localhost:8080/",
          "height": 597
        },
        "id": "dEMNYNP5QmdC",
        "outputId": "4a5dd127-fb59-45b6-8807-a79f180e4369"
      },
      "execution_count": 34,
      "outputs": [
        {
          "output_type": "display_data",
          "data": {
            "image/png": "[encoded data removed]",
            "text/plain": [
              "<Figure size 432x288 with 1 Axes>"
            ]
          },
          "metadata": {
            "needs_background": "light"
          }
        },
        {
          "output_type": "stream",
          "name": "stdout",
          "text": [
            "\n",
            "\n",
            "\n"
          ]
        },
        {
          "output_type": "display_data",
          "data": {
            "image/png": "[encoded data removed]",
            "text/plain": [
              "<Figure size 432x288 with 1 Axes>"
            ]
          },
          "metadata": {
            "needs_background": "light"
          }
        }
      ]
    },
    {
      "cell_type": "markdown",
      "source": [
        "Applying Transfer Learning Technique using VGG16 Model"
      ],
      "metadata": {
        "id": "ndTGfMxgc-mO"
      }
    },
    {
      "cell_type": "code",
      "source": [
        "X_data =[]\n",
        "count=0\n",
        "for i in dataset[:12000]:\n",
        "    face = cv2.imread('/content/drive/MyDrive/UTKFace/UTKFace/'+i)\n",
        "    face = cv2.resize(face,(128, 128))\n",
        "    X_data.append(face)\n",
        "    count+=1\n",
        "    if count==1000:\n",
        "      print('>', end='')\n",
        "      count=0\n",
        "  \n",
        "X = np.squeeze(X_data)\n",
        "X = X.astype('float32')\n",
        "X /= 255"
      ],
      "metadata": {
        "colab": {
          "base_uri": "https://localhost:8080/"
        },
        "id": "W-5vrcMze4vk",
        "outputId": "75b8edac-1d70-4b21-8464-59ed2fcb416d"
      },
      "execution_count": 37,
      "outputs": [
        {
          "output_type": "stream",
          "name": "stdout",
          "text": [
            ">>>>>>>>>>>>"
          ]
        }
      ]
    },
    {
      "cell_type": "code",
      "source": [
        "X_train_age,X_val_age, y_train_age, y_val_age = train_test_split(X,age[:12000], test_size=0.30)"
      ],
      "metadata": {
        "id": "ca2MFZhggtaQ"
      },
      "execution_count": 10,
      "outputs": []
    },
    {
      "cell_type": "code",
      "source": [
        "from tensorflow.keras.applications.vgg16 import VGG16\n",
        "from tensorflow.keras.applications.vgg16 import preprocess_input\n",
        "\n",
        "## Loading VGG16 model\n",
        "base_model = VGG16(weights=\"imagenet\", include_top=False, input_shape=(128,128,3))\n",
        "base_model.trainable = False\n",
        "base_model.summary()"
      ],
      "metadata": {
        "colab": {
          "base_uri": "https://localhost:8080/"
        },
        "id": "j684yzAgc9ZJ",
        "outputId": "7a339bfc-a84d-4810-fb66-9bdc3000f7c3"
      },
      "execution_count": 13,
      "outputs": [
        {
          "output_type": "stream",
          "name": "stdout",
          "text": [
            "Model: \"vgg16\"\n",
            "_________________________________________________________________\n",
            " Layer (type)                Output Shape              Param #   \n",
            "=================================================================\n",
            " input_1 (InputLayer)        [(None, 128, 128, 3)]     0         \n",
            "                                                                 \n",
            " block1_conv1 (Conv2D)       (None, 128, 128, 64)      1792      \n",
            "                                                                 \n",
            " block1_conv2 (Conv2D)       (None, 128, 128, 64)      36928     \n",
            "                                                                 \n",
            " block1_pool (MaxPooling2D)  (None, 64, 64, 64)        0         \n",
            "                                                                 \n",
            " block2_conv1 (Conv2D)       (None, 64, 64, 128)       73856     \n",
            "                                                                 \n",
            " block2_conv2 (Conv2D)       (None, 64, 64, 128)       147584    \n",
            "                                                                 \n",
            " block2_pool (MaxPooling2D)  (None, 32, 32, 128)       0         \n",
            "                                                                 \n",
            " block3_conv1 (Conv2D)       (None, 32, 32, 256)       295168    \n",
            "                                                                 \n",
            " block3_conv2 (Conv2D)       (None, 32, 32, 256)       590080    \n",
            "                                                                 \n",
            " block3_conv3 (Conv2D)       (None, 32, 32, 256)       590080    \n",
            "                                                                 \n",
            " block3_pool (MaxPooling2D)  (None, 16, 16, 256)       0         \n",
            "                                                                 \n",
            " block4_conv1 (Conv2D)       (None, 16, 16, 512)       1180160   \n",
            "                                                                 \n",
            " block4_conv2 (Conv2D)       (None, 16, 16, 512)       2359808   \n",
            "                                                                 \n",
            " block4_conv3 (Conv2D)       (None, 16, 16, 512)       2359808   \n",
            "                                                                 \n",
            " block4_pool (MaxPooling2D)  (None, 8, 8, 512)         0         \n",
            "                                                                 \n",
            " block5_conv1 (Conv2D)       (None, 8, 8, 512)         2359808   \n",
            "                                                                 \n",
            " block5_conv2 (Conv2D)       (None, 8, 8, 512)         2359808   \n",
            "                                                                 \n",
            " block5_conv3 (Conv2D)       (None, 8, 8, 512)         2359808   \n",
            "                                                                 \n",
            " block5_pool (MaxPooling2D)  (None, 4, 4, 512)         0         \n",
            "                                                                 \n",
            "=================================================================\n",
            "Total params: 14,714,688\n",
            "Trainable params: 0\n",
            "Non-trainable params: 14,714,688\n",
            "_________________________________________________________________\n"
          ]
        }
      ]
    },
    {
      "cell_type": "code",
      "source": [
        "vgg_model_age = Sequential([\n",
        "    base_model,\n",
        "\n",
        "    Flatten(),                                                                    # Flattening out all the layers\n",
        "    Dense(512, activation='relu'),\n",
        "    Dropout(0.05), \n",
        "\n",
        "    Dense(128, activation='relu'),\n",
        "    Dropout(0.05), \n",
        "    \n",
        "    Dense(32, activation='relu'),\n",
        "    Dense(1, activation='linear')\n",
        "])"
      ],
      "metadata": {
        "id": "Yb9KM8NBdOiD"
      },
      "execution_count": 17,
      "outputs": []
    },
    {
      "cell_type": "code",
      "source": [
        "X_train_age,X_val_age, y_train_age, y_val_age = np.array(X_train_age),np.array(X_val_age), np.array(y_train_age), np.array(y_val_age)"
      ],
      "metadata": {
        "id": "oceDLhu-jZDo"
      },
      "execution_count": 13,
      "outputs": []
    },
    {
      "cell_type": "code",
      "source": [
        "vgg_model_age.compile(loss='mse',optimizer='adam', metrics=['mae', 'mse'])                             # Compiling the Model, Keeping loss as Categorical Cross Entroopy and Optimizer as Adam\n",
        "vgg_model_age.fit(X_train_age,y_train_age,batch_size=16,\n",
        "                               epochs=40,validation_data=(X_val_age, y_val_age),\n",
        "                               callbacks=callbacks, verbose=2)  "
      ],
      "metadata": {
        "colab": {
          "base_uri": "https://localhost:8080/"
        },
        "id": "C_Wdl_n4jB5X",
        "outputId": "ee85c83c-ef97-415a-f374-9920c65544a6"
      },
      "execution_count": 18,
      "outputs": [
        {
          "output_type": "stream",
          "name": "stdout",
          "text": [
            "Epoch 1/40\n",
            "525/525 - 27s - loss: 188.1182 - mae: 10.3168 - mse: 188.1182 - val_loss: 141.6772 - val_mae: 8.6565 - val_mse: 141.6772 - lr: 0.0010 - 27s/epoch - 51ms/step\n",
            "Epoch 2/40\n",
            "525/525 - 25s - loss: 124.0271 - mae: 8.2771 - mse: 124.0271 - val_loss: 123.0503 - val_mae: 8.3778 - val_mse: 123.0503 - lr: 0.0010 - 25s/epoch - 47ms/step\n",
            "Epoch 3/40\n",
            "525/525 - 21s - loss: 107.3994 - mae: 7.6312 - mse: 107.3994 - val_loss: 110.6944 - val_mae: 7.5831 - val_mse: 110.6944 - lr: 0.0010 - 21s/epoch - 39ms/step\n",
            "Epoch 4/40\n",
            "525/525 - 25s - loss: 93.0989 - mae: 7.1187 - mse: 93.0989 - val_loss: 121.0522 - val_mae: 7.8419 - val_mse: 121.0522 - lr: 0.0010 - 25s/epoch - 48ms/step\n",
            "Epoch 5/40\n",
            "\n",
            "Epoch 5: ReduceLROnPlateau reducing learning rate to 0.00020000000949949026.\n",
            "525/525 - 25s - loss: 84.3744 - mae: 6.7947 - mse: 84.3744 - val_loss: 123.0514 - val_mae: 8.4365 - val_mse: 123.0514 - lr: 0.0010 - 25s/epoch - 48ms/step\n",
            "Epoch 6/40\n",
            "525/525 - 21s - loss: 59.7019 - mae: 5.6752 - mse: 59.7019 - val_loss: 105.9600 - val_mae: 7.4145 - val_mse: 105.9600 - lr: 2.0000e-04 - 21s/epoch - 40ms/step\n",
            "Epoch 7/40\n",
            "525/525 - 25s - loss: 55.6568 - mae: 5.4842 - mse: 55.6568 - val_loss: 104.5268 - val_mae: 7.3016 - val_mse: 104.5268 - lr: 2.0000e-04 - 25s/epoch - 48ms/step\n",
            "Epoch 8/40\n",
            "525/525 - 21s - loss: 51.0427 - mae: 5.2598 - mse: 51.0427 - val_loss: 108.4662 - val_mae: 7.5156 - val_mse: 108.4662 - lr: 2.0000e-04 - 21s/epoch - 40ms/step\n",
            "Epoch 9/40\n",
            "\n",
            "Epoch 9: ReduceLROnPlateau reducing learning rate to 4.0000001899898055e-05.\n",
            "525/525 - 25s - loss: 48.5188 - mae: 5.1313 - mse: 48.5188 - val_loss: 107.4837 - val_mae: 7.3995 - val_mse: 107.4837 - lr: 2.0000e-04 - 25s/epoch - 47ms/step\n",
            "Epoch 10/40\n",
            "525/525 - 25s - loss: 42.8503 - mae: 4.8217 - mse: 42.8503 - val_loss: 106.3084 - val_mae: 7.2998 - val_mse: 106.3084 - lr: 4.0000e-05 - 25s/epoch - 47ms/step\n",
            "Epoch 11/40\n",
            "\n",
            "Epoch 11: ReduceLROnPlateau reducing learning rate to 8.000000525498762e-06.\n",
            "525/525 - 21s - loss: 41.7190 - mae: 4.7605 - mse: 41.7190 - val_loss: 106.9183 - val_mae: 7.3276 - val_mse: 106.9183 - lr: 4.0000e-05 - 21s/epoch - 40ms/step\n",
            "Epoch 12/40\n",
            "Restoring model weights from the end of the best epoch: 7.\n",
            "525/525 - 21s - loss: 39.2403 - mae: 4.6092 - mse: 39.2403 - val_loss: 106.8995 - val_mae: 7.3206 - val_mse: 106.8995 - lr: 8.0000e-06 - 21s/epoch - 40ms/step\n",
            "Epoch 12: early stopping\n"
          ]
        },
        {
          "output_type": "execute_result",
          "data": {
            "text/plain": [
              "<keras.callbacks.History at 0x7f047c45f750>"
            ]
          },
          "metadata": {},
          "execution_count": 18
        }
      ]
    },
    {
      "cell_type": "code",
      "source": [
        "vgg_age_history= vgg_model_age.history.history\n",
        "for i in vgg_age_history:\n",
        "  print(i)"
      ],
      "metadata": {
        "colab": {
          "base_uri": "https://localhost:8080/"
        },
        "id": "svOXCl11o72u",
        "outputId": "1fa0337f-910a-47dc-f3b3-1ecbbf124a77"
      },
      "execution_count": 25,
      "outputs": [
        {
          "output_type": "stream",
          "name": "stdout",
          "text": [
            "loss\n",
            "mae\n",
            "mse\n",
            "val_loss\n",
            "val_mae\n",
            "val_mse\n",
            "lr\n"
          ]
        }
      ]
    },
    {
      "cell_type": "code",
      "source": [
        "plot_metrics_age(vgg_age_history)"
      ],
      "metadata": {
        "colab": {
          "base_uri": "https://localhost:8080/",
          "height": 597
        },
        "id": "kJvR0dAMpXup",
        "outputId": "4670a1bf-d659-40bb-a87b-d0147fc13780"
      },
      "execution_count": 27,
      "outputs": [
        {
          "output_type": "display_data",
          "data": {
            "image/png": "[encoded data removed]",
            "text/plain": [
              "<Figure size 432x288 with 1 Axes>"
            ]
          },
          "metadata": {
            "needs_background": "light"
          }
        },
        {
          "output_type": "stream",
          "name": "stdout",
          "text": [
            "\n",
            "\n",
            "\n"
          ]
        },
        {
          "output_type": "display_data",
          "data": {
            "image/png": "[encoded data removed]",
            "text/plain": [
              "<Figure size 432x288 with 1 Axes>"
            ]
          },
          "metadata": {
            "needs_background": "light"
          }
        }
      ]
    },
    {
      "cell_type": "code",
      "source": [
        "X_train_gender,X_val_gender, y_train_gender, y_val_gender = train_test_split(X,gender_classes[:12000], test_size=0.3)"
      ],
      "metadata": {
        "id": "LfM6SuuQqgLI"
      },
      "execution_count": 22,
      "outputs": []
    },
    {
      "cell_type": "code",
      "source": [
        "vgg_model_gender = Sequential([\n",
        "    base_model,\n",
        "\n",
        "    Flatten(),                                                                    # Flattening out all the layers\n",
        "    Dense(512, activation='relu'),\n",
        "    Dropout(0.05), \n",
        "\n",
        "    Dense(128, activation='relu'),\n",
        "    Dropout(0.05), \n",
        "    \n",
        "    Dense(32, activation='relu'),\n",
        "    Dense(2, activation='softmax')\n",
        "])"
      ],
      "metadata": {
        "id": "_lOL9UrLrkoD"
      },
      "execution_count": 35,
      "outputs": []
    },
    {
      "cell_type": "code",
      "source": [
        "vgg_model_gender.compile(loss='categorical_crossentropy',optimizer='adam', metrics=['accuracy', 'mse'])                             # Compiling the Model, Keeping loss as Categorical Cross Entroopy and Optimizer as Adam\n",
        "vgg_model_gender.fit(X_train_gender,y_train_gender,batch_size=16,\n",
        "                               epochs=40,validation_data=(X_val_gender, y_val_gender),\n",
        "                               callbacks=callbacks, verbose=2)   "
      ],
      "metadata": {
        "colab": {
          "base_uri": "https://localhost:8080/"
        },
        "id": "Mmlhv3EYraf_",
        "outputId": "51dd1ab0-ae27-42b0-e608-3747127ac4b5"
      },
      "execution_count": 25,
      "outputs": [
        {
          "output_type": "stream",
          "name": "stdout",
          "text": [
            "Epoch 1/40\n",
            "525/525 - 31s - loss: 0.4260 - accuracy: 0.8017 - mse: 0.1373 - val_loss: 0.3827 - val_accuracy: 0.8267 - val_mse: 0.1214 - lr: 0.0010 - 31s/epoch - 59ms/step\n",
            "Epoch 2/40\n",
            "525/525 - 21s - loss: 0.3150 - accuracy: 0.8581 - mse: 0.0980 - val_loss: 0.3173 - val_accuracy: 0.8628 - val_mse: 0.0988 - lr: 0.0010 - 21s/epoch - 40ms/step\n",
            "Epoch 3/40\n",
            "525/525 - 25s - loss: 0.2743 - accuracy: 0.8843 - mse: 0.0831 - val_loss: 0.5182 - val_accuracy: 0.7883 - val_mse: 0.1555 - lr: 0.0010 - 25s/epoch - 48ms/step\n",
            "Epoch 4/40\n",
            "\n",
            "Epoch 4: ReduceLROnPlateau reducing learning rate to 0.00020000000949949026.\n",
            "525/525 - 25s - loss: 0.2527 - accuracy: 0.8936 - mse: 0.0769 - val_loss: 0.3325 - val_accuracy: 0.8647 - val_mse: 0.0987 - lr: 0.0010 - 25s/epoch - 48ms/step\n",
            "Epoch 5/40\n",
            "525/525 - 21s - loss: 0.1730 - accuracy: 0.9329 - mse: 0.0502 - val_loss: 0.3304 - val_accuracy: 0.8731 - val_mse: 0.0966 - lr: 2.0000e-04 - 21s/epoch - 40ms/step\n",
            "Epoch 6/40\n",
            "\n",
            "Epoch 6: ReduceLROnPlateau reducing learning rate to 4.0000001899898055e-05.\n",
            "525/525 - 25s - loss: 0.1502 - accuracy: 0.9427 - mse: 0.0426 - val_loss: 0.3540 - val_accuracy: 0.8664 - val_mse: 0.1005 - lr: 2.0000e-04 - 25s/epoch - 48ms/step\n",
            "Epoch 7/40\n",
            "Restoring model weights from the end of the best epoch: 2.\n",
            "525/525 - 25s - loss: 0.1262 - accuracy: 0.9544 - mse: 0.0349 - val_loss: 0.3642 - val_accuracy: 0.8656 - val_mse: 0.1012 - lr: 4.0000e-05 - 25s/epoch - 48ms/step\n",
            "Epoch 7: early stopping\n"
          ]
        },
        {
          "output_type": "execute_result",
          "data": {
            "text/plain": [
              "<keras.callbacks.History at 0x7f50f7d17650>"
            ]
          },
          "metadata": {},
          "execution_count": 25
        }
      ]
    },
    {
      "cell_type": "code",
      "source": [
        "vgg_gender_history= vgg_model_gender.history.history"
      ],
      "metadata": {
        "id": "e4sR1_lXr0e_"
      },
      "execution_count": 26,
      "outputs": []
    },
    {
      "cell_type": "code",
      "source": [
        "plot_metrics(vgg_gender_history)"
      ],
      "metadata": {
        "colab": {
          "base_uri": "https://localhost:8080/",
          "height": 597
        },
        "id": "wpuIAhYWtQ3Z",
        "outputId": "7ece429f-6257-4123-c87c-8a210d40b4dc"
      },
      "execution_count": 27,
      "outputs": [
        {
          "output_type": "display_data",
          "data": {
            "image/png": "[encoded data removed]",
            "text/plain": [
              "<Figure size 432x288 with 1 Axes>"
            ]
          },
          "metadata": {
            "needs_background": "light"
          }
        },
        {
          "output_type": "stream",
          "name": "stdout",
          "text": [
            "\n",
            "\n",
            "\n"
          ]
        },
        {
          "output_type": "display_data",
          "data": {
            "image/png": "[encoded data removed]",
            "text/plain": [
              "<Figure size 432x288 with 1 Axes>"
            ]
          },
          "metadata": {
            "needs_background": "light"
          }
        }
      ]
    },
    {
      "cell_type": "code",
      "source": [
        "X_train_ethnicity,X_val_ethnicity, y_train_ethnicity, y_val_ethnicity = train_test_split(X,ethnicity_classes[:12000], test_size=0.3)"
      ],
      "metadata": {
        "id": "tS9ijjiUtccr"
      },
      "execution_count": 39,
      "outputs": []
    },
    {
      "cell_type": "code",
      "source": [
        "vgg_model_ethnicity = Sequential([\n",
        "    base_model,\n",
        "\n",
        "    Flatten(),                                                                                                 # Flattening out all the layers\n",
        "\n",
        "    Dense(128, activation='relu'),\n",
        "    Dropout(0.05), \n",
        "    \n",
        "    Dense(32, activation='relu'),\n",
        "    Dense(5, activation='softmax')\n",
        "])"
      ],
      "metadata": {
        "id": "ik02aRXcunIs"
      },
      "execution_count": 44,
      "outputs": []
    },
    {
      "cell_type": "code",
      "source": [
        "vgg_model_ethnicity.compile(loss='categorical_crossentropy',optimizer='adam', metrics=['accuracy', 'mse'])     # Compiling the Model, Keeping loss as Categorical Cross Entroopy and Optimizer as Adam\n",
        "vgg_model_ethnicity.fit(X_train_ethnicity,y_train_ethnicity,batch_size=16,\n",
        "                               epochs=10,validation_data=(X_val_ethnicity, y_val_ethnicity),\n",
        "                               callbacks=callbacks, verbose=2)  "
      ],
      "metadata": {
        "colab": {
          "base_uri": "https://localhost:8080/"
        },
        "id": "2AEdsNbmtl6U",
        "outputId": "5be129ae-9609-4afe-a0a5-eed79f52c2ae"
      },
      "execution_count": 45,
      "outputs": [
        {
          "output_type": "stream",
          "name": "stdout",
          "text": [
            "Epoch 1/10\n",
            "525/525 - 27s - loss: 1.0988 - accuracy: 0.5879 - mse: 0.1102 - val_loss: 1.0205 - val_accuracy: 0.6158 - val_mse: 0.1029 - lr: 0.0010 - 27s/epoch - 51ms/step\n",
            "Epoch 2/10\n",
            "525/525 - 25s - loss: 0.8574 - accuracy: 0.6905 - mse: 0.0866 - val_loss: 0.9438 - val_accuracy: 0.6547 - val_mse: 0.0943 - lr: 0.0010 - 25s/epoch - 47ms/step\n",
            "Epoch 3/10\n",
            "525/525 - 25s - loss: 0.7544 - accuracy: 0.7265 - mse: 0.0762 - val_loss: 0.9127 - val_accuracy: 0.6644 - val_mse: 0.0918 - lr: 0.0010 - 25s/epoch - 47ms/step\n",
            "Epoch 4/10\n",
            "525/525 - 21s - loss: 0.6587 - accuracy: 0.7604 - mse: 0.0672 - val_loss: 0.8835 - val_accuracy: 0.7008 - val_mse: 0.0859 - lr: 0.0010 - 21s/epoch - 40ms/step\n",
            "Epoch 5/10\n",
            "525/525 - 25s - loss: 0.5831 - accuracy: 0.7915 - mse: 0.0595 - val_loss: 1.0200 - val_accuracy: 0.6606 - val_mse: 0.0974 - lr: 0.0010 - 25s/epoch - 47ms/step\n",
            "Epoch 6/10\n",
            "\n",
            "Epoch 6: ReduceLROnPlateau reducing learning rate to 0.00020000000949949026.\n",
            "525/525 - 25s - loss: 0.5410 - accuracy: 0.8036 - mse: 0.0556 - val_loss: 1.0213 - val_accuracy: 0.6436 - val_mse: 0.0991 - lr: 0.0010 - 25s/epoch - 47ms/step\n",
            "Epoch 7/10\n",
            "525/525 - 25s - loss: 0.3610 - accuracy: 0.8779 - mse: 0.0364 - val_loss: 0.9031 - val_accuracy: 0.7047 - val_mse: 0.0845 - lr: 2.0000e-04 - 25s/epoch - 48ms/step\n",
            "Epoch 8/10\n",
            "\n",
            "Epoch 8: ReduceLROnPlateau reducing learning rate to 4.0000001899898055e-05.\n",
            "525/525 - 25s - loss: 0.3297 - accuracy: 0.8898 - mse: 0.0332 - val_loss: 0.9462 - val_accuracy: 0.7031 - val_mse: 0.0861 - lr: 2.0000e-04 - 25s/epoch - 47ms/step\n",
            "Epoch 9/10\n",
            "Restoring model weights from the end of the best epoch: 4.\n",
            "525/525 - 21s - loss: 0.2905 - accuracy: 0.9064 - mse: 0.0289 - val_loss: 0.9222 - val_accuracy: 0.7119 - val_mse: 0.0845 - lr: 4.0000e-05 - 21s/epoch - 39ms/step\n",
            "Epoch 9: early stopping\n"
          ]
        },
        {
          "output_type": "execute_result",
          "data": {
            "text/plain": [
              "<keras.callbacks.History at 0x7f506725b850>"
            ]
          },
          "metadata": {},
          "execution_count": 45
        }
      ]
    },
    {
      "cell_type": "code",
      "source": [
        "vgg_ethnicity_history= vgg_model_ethnicity.history.history"
      ],
      "metadata": {
        "id": "FKR8pCY5ukZV"
      },
      "execution_count": 46,
      "outputs": []
    },
    {
      "cell_type": "code",
      "source": [
        "plot_metrics(vgg_ethnicity_history)"
      ],
      "metadata": {
        "colab": {
          "base_uri": "https://localhost:8080/",
          "height": 597
        },
        "id": "1I2NYtPtv5YZ",
        "outputId": "344c5b46-a7ea-4b78-94fb-76ca781b4ebb"
      },
      "execution_count": 47,
      "outputs": [
        {
          "output_type": "display_data",
          "data": {
            "image/png": "[encoded data removed]",
            "text/plain": [
              "<Figure size 432x288 with 1 Axes>"
            ]
          },
          "metadata": {
            "needs_background": "light"
          }
        },
        {
          "output_type": "stream",
          "name": "stdout",
          "text": [
            "\n",
            "\n",
            "\n"
          ]
        },
        {
          "output_type": "display_data",
          "data": {
            "image/png": "[encoded data removed]",
            "text/plain": [
              "<Figure size 432x288 with 1 Axes>"
            ]
          },
          "metadata": {
            "needs_background": "light"
          }
        }
      ]
    }
  ],
  "metadata": {
    "colab": {
      "collapsed_sections": [],
      "name": "Gender_Age_Ethnicity.ipynb",
      "provenance": []
    },
    "kernelspec": {
      "display_name": "Python 3",
      "name": "python3"
    },
    "language_info": {
      "name": "python"
    },
    "accelerator": "GPU"
  },
  "nbformat": 4,
  "nbformat_minor": 0
}